{
 "cells": [
  {
   "cell_type": "code",
   "execution_count": 2,
   "metadata": {},
   "outputs": [
    {
     "name": "stderr",
     "output_type": "stream",
     "text": [
      "/var/folders/md/0h30crhs7xb714g8zy7dzj1m0000gn/T/ipykernel_97415/781864472.py:2: DeprecationWarning: \n",
      "Pyarrow will become a required dependency of pandas in the next major release of pandas (pandas 3.0),\n",
      "(to allow more performant data types, such as the Arrow string type, and better interoperability with other libraries)\n",
      "but was not found to be installed on your system.\n",
      "If this would cause problems for you,\n",
      "please provide us feedback at https://github.com/pandas-dev/pandas/issues/54466\n",
      "        \n",
      "  import pandas as pd\n"
     ]
    },
    {
     "data": {
      "text/plain": [
       "'3.11.4 (v3.11.4:d2340ef257, Jun  6 2023, 19:15:51) [Clang 13.0.0 (clang-1300.0.29.30)]'"
      ]
     },
     "execution_count": 2,
     "metadata": {},
     "output_type": "execute_result"
    }
   ],
   "source": [
    "# setup\n",
    "import pandas as pd\n",
    "import numpy as np\n",
    "import random\n",
    "import statsmodels.api as sm\n",
    "import sys\n",
    "from ppi_py import ppi_ols_ci, classical_ols_ci, ppi_ols_pointestimate\n",
    "\n",
    "df = pd.read_csv(\"../Data/5_SurveySampleLLM.csv.gz\")\n",
    "\n",
    "Covs = ['PedPed', 'Barrier', 'CrossingSignal', 'NumberOfCharacters',\n",
    "        'DiffNumberOFCharacters', 'LeftHand', 'Man', 'Woman', 'Pregnant',\n",
    "        'Stroller', 'OldMan', 'OldWoman', 'Boy', 'Girl', 'Homeless',\n",
    "        'LargeWoman', 'LargeMan', 'Criminal', 'MaleExecutive',\n",
    "        'FemaleExecutive', 'FemaleAthlete', 'MaleAthlete', 'FemaleDoctor',\n",
    "        'MaleDoctor', 'Dog', 'Cat', \n",
    "        'Intervention'\n",
    "        ]\n",
    "\n",
    "sys.version "
   ]
  },
  {
   "cell_type": "markdown",
   "metadata": {},
   "source": [
    "Function from PPI to calculate stats"
   ]
  },
  {
   "cell_type": "code",
   "execution_count": 3,
   "metadata": {},
   "outputs": [],
   "source": [
    "def _ols_get_stats(\n",
    "    pointest,\n",
    "    X,\n",
    "    Y,\n",
    "    Yhat,\n",
    "    X_unlabeled,\n",
    "    Yhat_unlabeled,\n",
    "    w=None,\n",
    "    w_unlabeled=None,\n",
    "    use_unlabeled=True,\n",
    "):\n",
    "    \"\"\"Computes the statistics needed for the OLS-based prediction-powered inference.\n",
    "\n",
    "    Args:\n",
    "        pointest (ndarray): A point estimate of the coefficients.\n",
    "        X (ndarray): Covariates for the labeled data set.\n",
    "        Y (ndarray): Labels for the labeled data set.\n",
    "        Yhat (ndarray): Predictions for the labeled data set.\n",
    "        X_unlabeled (ndarray): Covariates for the unlabeled data set.\n",
    "        Yhat_unlabeled (ndarray): Predictions for the unlabeled data set.\n",
    "        w (ndarray, optional): Sample weights for the labeled data set.\n",
    "        w_unlabeled (ndarray, optional): Sample weights for the unlabeled data set.\n",
    "        use_unlabeled (bool, optional): Whether to use the unlabeled data set.\n",
    "\n",
    "    Returns:\n",
    "        grads (ndarray): Gradient of the loss function with respect to the coefficients.\n",
    "        grads_hat (ndarray): Gradient of the loss function with respect to the coefficients, evaluated using the labeled predictions.\n",
    "        grads_hat_unlabeled (ndarray): Gradient of the loss function with respect to the coefficients, evaluated using the unlabeled predictions.\n",
    "        inv_hessian (ndarray): Inverse Hessian of the loss function with respect to the coefficients.\n",
    "    \"\"\"\n",
    "    n = Y.shape[0]\n",
    "    N = Yhat_unlabeled.shape[0]\n",
    "    d = X.shape[1]\n",
    "    w = np.ones(n) if w is None else w / np.sum(w) * n\n",
    "    w_unlabeled = (\n",
    "        np.ones(N)\n",
    "        if w_unlabeled is None\n",
    "        else w_unlabeled / np.sum(w_unlabeled) * N\n",
    "    )\n",
    "\n",
    "    hessian = np.zeros((d, d))\n",
    "    grads_hat_unlabeled = np.zeros(X_unlabeled.shape)\n",
    "    if use_unlabeled:\n",
    "        for i in range(N):\n",
    "            hessian += (\n",
    "                w_unlabeled[i]\n",
    "                / (N + n)\n",
    "                * np.outer(X_unlabeled[i], X_unlabeled[i])\n",
    "            )\n",
    "            grads_hat_unlabeled[i, :] = (\n",
    "                w_unlabeled[i]\n",
    "                * X_unlabeled[i, :]\n",
    "                * (np.dot(X_unlabeled[i, :], pointest) - Yhat_unlabeled[i])\n",
    "            )\n",
    "\n",
    "    grads = np.zeros(X.shape)\n",
    "    grads_hat = np.zeros(X.shape)\n",
    "    for i in range(n):\n",
    "        hessian += (\n",
    "            w[i] / (N + n) * np.outer(X[i], X[i])\n",
    "            if use_unlabeled\n",
    "            else w[i] / n * np.outer(X[i], X[i])\n",
    "        )\n",
    "        grads[i, :] = w[i] * X[i, :] * (np.dot(X[i, :], pointest) - Y[i])\n",
    "        grads_hat[i, :] = (\n",
    "            w[i] * X[i, :] * (np.dot(X[i, :], pointest) - Yhat[i])\n",
    "        )\n",
    "\n",
    "    inv_hessian = np.linalg.inv(hessian).reshape(d, d)\n",
    "    return grads, grads_hat, grads_hat_unlabeled, inv_hessian"
   ]
  },
  {
   "cell_type": "markdown",
   "metadata": {},
   "source": [
    "Function to compute $\\tilde{\\rho}$ and $\\sigma$ for PPI SEs."
   ]
  },
  {
   "cell_type": "code",
   "execution_count": 4,
   "metadata": {},
   "outputs": [],
   "source": [
    "def _power_analysis_stats(grads, grads_hat, inv_hessian):\n",
    "    grads_ = grads - grads.mean(axis=0)\n",
    "    grads_hat_ = grads_hat - grads_hat.mean(axis=0)\n",
    "    cov = inv_hessian @ (grads_[:,None,:] * grads_hat_[:,:,None]).mean(axis=0) @ inv_hessian\n",
    "    var = inv_hessian @ (grads_[:,None,:]*grads_[:,:,None]).mean(axis=0) @ inv_hessian\n",
    "    var_hat = inv_hessian @ (grads_hat_[:,None,:]*grads_hat_[:,:,None]).mean(axis=0) @ inv_hessian\n",
    "    rhos_sq = np.diag(cov)**2/(np.diag(var)*np.diag(var_hat))\n",
    "    sigmas_sq = np.diag(var)\n",
    "    return rhos_sq, sigmas_sq\n",
    "\n",
    "def _estimate_ppi_SE(n, N, rho_sq, var_Y):\n",
    "    if N == np.inf:\n",
    "        return np.sqrt(var_Y*(1-rho_sq)/n)\n",
    "    if N == 0:\n",
    "        return np.sqrt(var_Y/n)\n",
    "    var_ppi = var_Y*(1-rho_sq*N/(n+N))/n\n",
    "    return np.sqrt(var_ppi)\n",
    "\n",
    "def _estimate_classical_SE(n, var_Y):\n",
    "    return np.sqrt(var_Y/n)\n"
   ]
  },
  {
   "cell_type": "code",
   "execution_count": 5,
   "metadata": {},
   "outputs": [],
   "source": [
    "# functions to calculate weights for conjoint experiment\n",
    "def CalcTheoreticalInt(r):\n",
    "    # this function is applied to each row (r)\n",
    "    if r[\"Intervention\"]==0:\n",
    "        if r[\"Barrier\"]==0:\n",
    "            if r[\"PedPed\"]==1: p = 0.48\n",
    "            else: p = 0.32\n",
    "            \n",
    "            if r[\"CrossingSignal\"]==0:   p = p * 0.48\n",
    "            elif r[\"CrossingSignal\"]==1: p = p * 0.2\n",
    "            else: p = p * 0.32\n",
    "        else: p = 0.2\n",
    "\n",
    "    else: \n",
    "        if r[\"Barrier\"]==0:\n",
    "            if r[\"PedPed\"]==1: \n",
    "                p = 0.48\n",
    "                if r[\"CrossingSignal\"]==0: p = p * 0.48\n",
    "                elif r[\"CrossingSignal\"]==1: p = p * 0.32\n",
    "                else: p = p * 0.2\n",
    "            else: \n",
    "                p = 0.2\n",
    "                if r[\"CrossingSignal\"]==0: p = p * 0.48\n",
    "                elif r[\"CrossingSignal\"]==1: p = p * 0.2\n",
    "                else: p = p * 0.32\n",
    "        else: p = 0.32  \n",
    "    \n",
    "    return(p)  \n",
    "        \n",
    "def calcWeightsTheoretical(profiles):\n",
    "    \n",
    "    p = profiles.apply(CalcTheoreticalInt, axis=1)\n",
    "\n",
    "    weight = 1/p \n",
    "\n",
    "    return(weight) \n",
    "\n",
    "            "
   ]
  },
  {
   "cell_type": "code",
   "execution_count": 6,
   "metadata": {},
   "outputs": [],
   "source": [
    "df.loc[:,\"weights\"] = calcWeightsTheoretical(df)"
   ]
  },
  {
   "cell_type": "markdown",
   "metadata": {},
   "source": [
    "Calculate $\\tilde{\\rho}^2$ for variable `x` using model `y`."
   ]
  },
  {
   "cell_type": "code",
   "execution_count": 13,
   "metadata": {},
   "outputs": [
    {
     "name": "stdout",
     "output_type": "stream",
     "text": [
      "beta [ 0.55856895 -0.04022398]\n"
     ]
    }
   ],
   "source": [
    "x = \"CrossingSignal\"\n",
    "y = \"gpt4turbo_wp_Saved\"\n",
    "\n",
    "X = df[x]\n",
    "X = np.column_stack((np.ones(X.shape), X))\n",
    "Y_silicone = df[y].to_numpy().reshape(-1, 1)\n",
    "Y_human = df[\"Saved\"].to_numpy().reshape(-1, 1)\n",
    "W = df[\"weights\"].to_numpy().reshape(-1, 1)\n",
    "beta = sm.WLS(Y_human, X, weights=W).fit().params\n",
    "print(\"beta\", beta)\n",
    "\n",
    "grads, grads_hat, grads_hat_unlabeled, inv_hessian = _ols_get_stats(beta, \n",
    "                                                                    X, \n",
    "                                                                    Y_human, \n",
    "                                                                    Y_silicone,\n",
    "                                                                    X,\n",
    "                                                                    Y_silicone,\n",
    "                                                                    w = W, \n",
    "                                                                    use_unlabeled=False)"
   ]
  },
  {
   "cell_type": "code",
   "execution_count": 11,
   "metadata": {},
   "outputs": [
    {
     "name": "stdout",
     "output_type": "stream",
     "text": [
      "Rho squared 0.09016284460641202\n",
      "Rho 0.300271285018085\n"
     ]
    }
   ],
   "source": [
    "rho_sq, var_Y = _power_analysis_stats(grads, grads_hat, inv_hessian)\n",
    "print(\"Rho squared\", rho_sq[1])\n",
    "print(\"Rho\", np.sqrt(rho_sq[1]))"
   ]
  },
  {
   "cell_type": "code",
   "execution_count": 12,
   "metadata": {},
   "outputs": [
    {
     "data": {
      "text/plain": [
       "array([[1., 1.],\n",
       "       [1., 2.],\n",
       "       [1., 2.],\n",
       "       ...,\n",
       "       [1., 1.],\n",
       "       [1., 1.],\n",
       "       [1., 2.]])"
      ]
     },
     "execution_count": 12,
     "metadata": {},
     "output_type": "execute_result"
    }
   ],
   "source": [
    "X"
   ]
  }
 ],
 "metadata": {
  "kernelspec": {
   "display_name": "Python 3",
   "language": "python",
   "name": "python3"
  },
  "language_info": {
   "codemirror_mode": {
    "name": "ipython",
    "version": 3
   },
   "file_extension": ".py",
   "mimetype": "text/x-python",
   "name": "python",
   "nbconvert_exporter": "python",
   "pygments_lexer": "ipython3",
   "version": "3.11.4"
  }
 },
 "nbformat": 4,
 "nbformat_minor": 2
}
