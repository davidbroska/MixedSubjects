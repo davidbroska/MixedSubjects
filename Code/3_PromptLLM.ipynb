{
 "cells": [
  {
   "cell_type": "code",
   "execution_count": 38,
   "metadata": {},
   "outputs": [
    {
     "name": "stdout",
     "output_type": "stream",
     "text": [
      "3.11.4 (v3.11.4:d2340ef257, Jun  6 2023, 19:15:51) [Clang 13.0.0 (clang-1300.0.29.30)]\n"
     ]
    }
   ],
   "source": [
    "import PythonFunctions as pf\n",
    "import pandas as pd\n",
    "import re\n",
    "import numpy as np\n",
    "import sys\n",
    "from multiprocessing import Pool\n",
    "import glob\n",
    "print(sys.version)"
   ]
  },
  {
   "cell_type": "markdown",
   "metadata": {},
   "source": [
    "# Generate descriptions of dilemmas\n",
    "\n",
    "We use Python code to generate prompts for the LLM. The prompts include a demographic profile of a survey respondents and a description of the two dilemma that the survey respondents encountered during the Moral Machine experiment. \n",
    "\n",
    "The demographic profile includes the age, education, gender, and income that survey respondents reported in an optional demographic survey upon completion of the experiment. The order in which these characteristics appear in the prompt is randomized. \n",
    "\n",
    "The description of the scenarios is generated from the replication data provided by Awad et al. (2018). One dilemma consists of two scenarios, presented side by side during the experiment. \n",
    "\n",
    "To generate the descriptions of the dilemmas, we extended code written by Takemoto (2024). This study generates new dilemmas by randomly combining features of scenarios (e.g. the composition of characters) and prompts LLMs to evaluate these dilemmas. In contrast, our study takes the existing dilemmas from Awad et al. (2018) and prompts LLMs to predict how survey respondents evluated the dilemmas.\n",
    "\n",
    "Below we illustrate how the entries in the data matrix describe a scenario. We created the images with the design functionalities of [moralmachine.net](https://www.moralmachine.net/). These images illustrate the examples but play no further role in the study. "
   ]
  },
  {
   "cell_type": "markdown",
   "metadata": {},
   "source": [
    "### Example 1\n",
    "\n",
    "On the left side (`LeftHand=1`), respondents saw an AV that swerves to the other lane (`Intervention=1`) and kills 5 pedestrians (`Barrier=0`) – 1 baby, 1 female athlete, 1 male athlete, 1 female doctor, and 1 cat – who were crossing on a green light (`CrossingSignal=1`).\n",
    "\n",
    "On the right side (`LeftHand=0`), respondents saw an AV that would continue ahead and crash into a barrier, resulting in the dealth of the 4 passengers (`Barrier=1`) - 1 baby, 1 female athlete, 1 female doctor, and a cat.\n",
    "\n",
    "This example is taken from the [supplementary material](https://osf.io/wt6mc?view_only=4bb49492edee4a8eb1758552a362a2cf) in Awad et al. (2018). \n",
    "<div style=\"text-align: center;\">\n",
    "    <img src=\"../Figures/4_ScenarioExamples/2224g4ytARX4QT5rB.png\" alt=\"Example 1 2224g4ytARX4QT5rB (SI, Awad et al. 2018)\" width=\"70%\" align=\"center\"/>\n",
    "</div>"
   ]
  },
  {
   "cell_type": "code",
   "execution_count": 39,
   "metadata": {},
   "outputs": [
    {
     "name": "stdout",
     "output_type": "stream",
     "text": [
      "With persona:\n",
      " (\"Carefully consider the following information and think step by step. You are an American with the following characteristics:\\n - You earn an annual income of 30,000 US dollars.\\n - Your highest level of education is a bachelor degree.\\n - On a scale from 0 (Not Religious) to 100 (Very Religious), you report a score of 24 for your religious views.\\n - You are a man.\\n - You are 36 years old.\\n - On a scale from 0 (Conservative) to 100 (Progressive), you report a score of 54 for your political views.\\nConsider that pedestrians are crossing a zebra crossing that spans two lanes. Please indicate which case is better for autonomous driving by choosing either 'Case 1' or 'Case 2'. Respond with one word only.\\n\", 'Case 1.\\nA self-driving car with sudden brake failure will swerve to avoid crashing into a concrete barrier and drive through a pedestrian crossing in the other lane. This will result in the death of 1 baby, 1 cat, 1 male athlete, 1 female doctor, and 1 female athlete, who were abiding by the law by crossing on the green signal. Meanwhile, it will spare 1 female doctor, 1 female athlete, 1 baby, and 1 cat, who were inside the car.\\n\\nCase 2.\\nA self-driving car with sudden brake failure will continue ahead and crash into a concrete barrier. This will result in the death of 1 female doctor, 1 female athlete, 1 baby, and 1 cat, who were inside the car. Meanwhile, it will spare 1 baby, 1 cat, 1 male athlete, 1 female doctor, and 1 female athlete, who were abiding by the law by crossing on the green signal.\\n') \n",
      "\n",
      "Label assigned by LLM:  ['Case 2']\n",
      "Outcomes for these scenarios:\n",
      " 0    1\n",
      "1    0\n",
      "dtype: int64\n"
     ]
    }
   ],
   "source": [
    "data1 = {\n",
    "    \"ResponseID\": [\"2224g4ytARX4QT5rB\", \"2224g4ytARX4QT5rB\"],\n",
    "    \"ExtendedSessionID\": [\"213978760_9992828917431898.0\", \"213978760_9992828917431898.0\"],\n",
    "    \"UserID\": [9.992829e+15, 9.992829e+15],\n",
    "    # Imputed demographics just for this illustration\n",
    "    \"Review_age\": [36,36],                     \n",
    "    \"Review_education\": [\"bachelor\",\"bachelor\"],\n",
    "    \"Review_gender\": [\"Man\",\"Man\"],\n",
    "    \"Review_ContinuousIncome\": [30000,30000],\n",
    "    \"Review_political\": [54,54],\n",
    "    \"Review_religious\": [24,24],\n",
    "    \"ScenarioOrder\": [7, 7],\n",
    "    \"Intervention\": [1, 0],\n",
    "    \"PedPed\": [0, 0],\n",
    "    \"Barrier\": [0, 1],\n",
    "    \"CrossingSignal\": [1, 0],\n",
    "    \"AttributeLevel\": [\"More\", \"Less\"],\n",
    "    \"ScenarioTypeStrict\": [\"Utilitarian\", \"Utilitarian\"],\n",
    "    \"ScenarioType\": [\"Utilitarian\", \"Utilitarian\"],\n",
    "    \"DefaultChoice\": [\"More\", \"More\"],\n",
    "    \"NonDefaultChoice\": [\"Less\", \"Less\"],\n",
    "    \"DefaultChoiceIsOmission\": [0, 0],\n",
    "    \"NumberOfCharacters\": [5, 4],\n",
    "    \"DiffNumberOFCharacters\": [1, 1],\n",
    "    \"Saved\": [0, 1],\n",
    "    'Label': ['Case 2','Case 2'],\n",
    "    \"Template\": [\"Desktop\", \"Desktop\"],\n",
    "    \"DescriptionShown\": [1, 1],\n",
    "    \"LeftHand\": [1, 0],\n",
    "    \"UserCountry3\": [\"USA\", \"USA\"],\n",
    "    \"Man\": [0, 0],\n",
    "    \"Woman\": [0, 0],\n",
    "    \"Pregnant\": [0, 0],\n",
    "    \"Stroller\": [1, 1],\n",
    "    \"OldMan\": [0, 0],\n",
    "    \"OldWoman\": [0, 0],\n",
    "    \"Boy\": [0, 0],\n",
    "    \"Girl\": [0, 0],\n",
    "    \"Homeless\": [0, 0],\n",
    "    \"LargeWoman\": [0, 0],\n",
    "    \"LargeMan\": [0, 0],\n",
    "    \"Criminal\": [0, 0],\n",
    "    \"MaleExecutive\": [0, 0],\n",
    "    \"FemaleExecutive\": [0, 0],\n",
    "    \"FemaleAthlete\": [1, 1],\n",
    "    \"MaleAthlete\": [1, 0],\n",
    "    \"FemaleDoctor\": [1, 1],\n",
    "    \"MaleDoctor\": [0, 0],\n",
    "    \"Dog\": [0, 0],\n",
    "    \"Cat\": [1, 1]\n",
    "}\n",
    "df1 = pd.DataFrame(data1)\n",
    " \n",
    "\n",
    "print(\"With persona:\\n\",pf.generate_scenario(df1, include_persona=True),\"\\n\")\n",
    "print(\"Label assigned by LLM: \",df1[\"Label\"].unique())\n",
    "print(\"Outcomes for these scenarios:\\n\",df1.apply(pf.classify_response, column_name = \"Label\", axis=1))"
   ]
  },
  {
   "cell_type": "markdown",
   "metadata": {},
   "source": [
    "### Example 2\n",
    "\n",
    "These scenarios pit two groups of pedestrians against each other (`PedPed=1`).  \n",
    "\n",
    "On the left side of the screen (`LeftHand=1`), respondents saw a scenario in which the AV stays on course (`Intervention=0`), resulting in the death of 1 man who was crossing on a red signal (`CrossingSignal=2`). \n",
    "\n",
    "On the right side of the screen (`LeftHand=0`), respondents saw a scenario in which the AV swerves to the other lane (`Intervention=1`), resulting in the death 1 male athlete who was crossing on a green signal (`CrossingSignal=1`).\n",
    "<div style=\"text-align: center;\">\n",
    "    <img src=\"../Figures/4_ScenarioExamples/22qKv8AmPcXEnNd8z.png\" width=\"70%\" align=\"center\"/>\n",
    "</div>"
   ]
  },
  {
   "cell_type": "code",
   "execution_count": 40,
   "metadata": {},
   "outputs": [
    {
     "name": "stdout",
     "output_type": "stream",
     "text": [
      "With persona:\n",
      " (\"Carefully consider the following information and think step by step. You are an American with the following characteristics:\\n - You earn an annual income of 12,500 US dollars.\\n - Your highest level of education is a high school diploma.\\n - On a scale from 0 (Not Religious) to 100 (Very Religious), you report a score of 0 for your religious views.\\n - You are a man.\\n - You are 29 years old.\\n - On a scale from 0 (Conservative) to 100 (Progressive), you report a score of 100 for your political views.\\nConsider that pedestrians are crossing a zebra crossing that spans two lanes, divided by an island. Please indicate which case is better for autonomous driving by choosing either 'Case 1' or 'Case 2'. Respond with one word only.\\n\", 'Case 1.\\nA self-driving car with sudden brake failure will continue ahead and drive through a pedestrian crossing ahead. This will result in the death of 1 man, who was flouting the law by crossing on the red signal ahead of the car. Meanwhile, it will spare 1 male athlete, who was abiding by the law by crossing on the green signal in the other lane.\\n\\nCase 2.\\nA self-driving car with sudden brake failure will swerve and drive through a pedestrian crossing in the other lane. This will result in the death of 1 male athlete, who was abiding by the law by crossing on the green signal in the other lane. Meanwhile, it will spare 1 man, who was flouting the law by crossing on the red signal ahead of the car.\\n') \n",
      "\n",
      "Label assigned by LLM:  ['Case 1']\n",
      "Outcomes for these scenarios:\n",
      " 0    0\n",
      "1    1\n",
      "dtype: int64\n"
     ]
    }
   ],
   "source": [
    "data2 = {\n",
    "    \"ExtendedSessionID\": [\"1055565952_8316216477776195.0\", \"1055565952_8316216477776195.0\"],\n",
    "    \"ResponseID\": [\"22qKv8AmPcXEnNd8z\", \"22qKv8AmPcXEnNd8z\"],\n",
    "    \"UserID\": [8.316216e+15, 8.316216e+15],\n",
    "    \"Review_age\": [29, 29],\n",
    "    \"Review_education\": [\"high\",\"high\"],\n",
    "    \"Review_income\": [\"10000\", \"10000\"],\n",
    "    \"Review_gender\": [\"Man\", \"Man\"],\n",
    "    \"Review_ContinuousIncome\": [12500,12500],\n",
    "    \"IncomeBracketSmall\": [\"$5,001-\\n$25,000\", \"$5,001-\\n$25,000\"],\n",
    "    \"Review_political\": [100, 100],\n",
    "    \"Review_religious\": [0, 0],\n",
    "    \"ScenarioOrder\": [6, 6],\n",
    "    \"Intervention\": [0, 1],\n",
    "    \"PedPed\": [1, 1],\n",
    "    \"Barrier\": [0, 0],\n",
    "    \"CrossingSignal\": [2, 1],\n",
    "    \"AttributeLevel\": [\"Fat\", \"Fit\"],\n",
    "    \"ScenarioTypeStrict\": [\"Fitness\", \"Fitness\"],\n",
    "    \"ScenarioType\": [\"Fitness\", \"Fitness\"],\n",
    "    \"DefaultChoice\": [\"Fit\", \"Fit\"],\n",
    "    \"NonDefaultChoice\": [\"Fat\", \"Fat\"],\n",
    "    \"DefaultChoiceIsOmission\": [0, 0],\n",
    "    \"NumberOfCharacters\": [1, 1],\n",
    "    \"DiffNumberOFCharacters\": [0, 0],\n",
    "    \"Saved\": [0, 1],\n",
    "    'Label': ['Case 1','Case 1'],\n",
    "    \"Template\": [\"Desktop\", \"Desktop\"],\n",
    "    \"DescriptionShown\": [1, 1],\n",
    "    \"LeftHand\": [1, 0],\n",
    "    \"UserCountry3\": [\"USA\", \"USA\"],\n",
    "    \"Man\": [1, 0],\n",
    "    \"Woman\": [0, 0],\n",
    "    \"Pregnant\": [0, 0],\n",
    "    \"Stroller\": [0, 0],\n",
    "    \"OldMan\": [0, 0],\n",
    "    \"OldWoman\": [0, 0],\n",
    "    \"Boy\": [0, 0],\n",
    "    \"Girl\": [0, 0],\n",
    "    \"Homeless\": [0, 0],\n",
    "    \"LargeWoman\": [0, 0],\n",
    "    \"LargeMan\": [0, 0],\n",
    "    \"Criminal\": [0, 0],\n",
    "    \"MaleExecutive\": [0, 0],\n",
    "    \"FemaleExecutive\": [0, 0],\n",
    "    \"FemaleAthlete\": [0, 0],\n",
    "    \"MaleAthlete\": [0, 1],\n",
    "    \"FemaleDoctor\": [0, 0],\n",
    "    \"MaleDoctor\": [0, 0],\n",
    "    \"Dog\": [0, 0],\n",
    "    \"Cat\": [0, 0],\n",
    "}\n",
    "\n",
    "df2 = pd.DataFrame(data2)\n",
    " \n",
    "print(\"With persona:\\n\",pf.generate_scenario(df2, include_persona=True),\"\\n\")\n",
    "print(\"Label assigned by LLM: \",df2[\"Label\"].unique())\n",
    "print(\"Outcomes for these scenarios:\\n\",df2.apply(pf.classify_response, column_name = \"Label\", axis=1))\n"
   ]
  },
  {
   "cell_type": "markdown",
   "metadata": {},
   "source": [
    "### Example 3\n",
    "\n",
    "This scenario pits pedestrians against pedestrians (`PedPed=1`). On the left side of the screen (`LeftHand=1`), respondents saw a scenario in which the AV would stay on course (`Intervention=0`), resulting in the death of 1 male executive who was crossing (`CrossingSignal=0`).\n",
    "\n",
    "On the right side of the screen (`LeftSide=0`), respodents saw a scenario in which the AV would swerve (`Intervention=1`), resulting in the death of a 1 female executive who was crossing (`CrossingSignal=0`).\n",
    "<div style=\"text-align: center;\">\n",
    "    <img src=\"../Figures/4_ScenarioExamples/A6GmXsYKGxyivAFzu.png\" width=\"70%\" align=\"center\"/>\n",
    "</div>"
   ]
  },
  {
   "cell_type": "code",
   "execution_count": 41,
   "metadata": {},
   "outputs": [
    {
     "name": "stdout",
     "output_type": "stream",
     "text": [
      "With persona:\n",
      " (\"Carefully consider the following information and think step by step. You are an American with the following characteristics:\\n - On a scale from 0 (Not Religious) to 100 (Very Religious), you report a score of 46 for your religious views.\\n - On a scale from 0 (Conservative) to 100 (Progressive), you report a score of 11 for your political views.\\n - You earn an annual income of 42,500 US dollars.\\n - Your highest level of education is a bachelor degree.\\n - You are 46 years old.\\n - You are a woman.\\nConsider that pedestrians are crossing a zebra crossing that spans two lanes, divided by an island. Please indicate which case is better for autonomous driving by choosing either 'Case 1' or 'Case 2'. Respond with one word only.\\n\", 'Case 1.\\nA self-driving car with sudden brake failure will continue ahead and drive through a pedestrian crossing ahead. This will result in the death of 1 male executive, who was crossing ahead of the car. Meanwhile, it will spare 1 female executive, who was crossing in the other lane.\\n\\nCase 2.\\nA self-driving car with sudden brake failure will swerve and drive through a pedestrian crossing in the other lane. This will result in the death of 1 female executive, who was crossing in the other lane. Meanwhile, it will spare 1 male executive, who was crossing ahead of the car.\\n') \n",
      "\n",
      "Label assigned by LLM:  ['Case 1']\n",
      "Outcomes for these scenarios:\n",
      " 0    0\n",
      "1    1\n",
      "dtype: int64\n"
     ]
    }
   ],
   "source": [
    "data3 = {\n",
    "    'ExtendedSessionID': ['1694978322_3759038854820315.0', '1694978322_3759038854820315.0'],\n",
    "    'ResponseID': ['A6GmXsYKGxyivAFzu', 'A6GmXsYKGxyivAFzu'],\n",
    "    'UserID': [3.759039e+15, 3.759039e+15],\n",
    "    'Review_age': [46, 46],\n",
    "    'Review_education': ['bachelor','bachelor'],\n",
    "    'Review_gender': ['Woman', 'Woman'],\n",
    "    'Review_income': ['35000', '35000'],\n",
    "    \"Review_ContinuousIncome\": [42500,42500],\n",
    "    'IncomeBracketSmall': ['$25,001-\\n$50,000', '$25,001-\\n$50,000'],\n",
    "    'Review_political': [11, 11],\n",
    "    'Review_religious': [46, 46],\n",
    "    'ScenarioOrder': [1, 1],\n",
    "    'Intervention': [0, 1],\n",
    "    'PedPed': [1, 1],\n",
    "    'Barrier': [0, 0],\n",
    "    'CrossingSignal': [0, 0],\n",
    "    'AttributeLevel': ['Male', 'Female'],\n",
    "    'ScenarioTypeStrict': ['Gender', 'Gender'],\n",
    "    'ScenarioType': ['Gender', 'Gender'],\n",
    "    'DefaultChoice': ['Male', 'Female'],\n",
    "    'NonDefaultChoice': ['Male', 'Female'],\n",
    "    'DefaultChoiceIsOmission': [1, 1],\n",
    "    'NumberOfCharacters': [1, 1],\n",
    "    'DiffNumberOFCharacters': [0, 0],\n",
    "    'Saved': [0, 1],\n",
    "    'Label': ['Case 1','Case 1'],\n",
    "    'Template': ['Desktop', 'Desktop'],\n",
    "    'DescriptionShown': [0, 0],\n",
    "    'LeftHand': [1, 0],\n",
    "    'UserCountry3': ['USA', 'USA'],\n",
    "    'Man': [0, 0],\n",
    "    'Woman': [0, 0],\n",
    "    'Pregnant': [0, 0],\n",
    "    'Stroller': [0, 0],\n",
    "    'OldMan': [0, 0],\n",
    "    'OldWoman': [0, 0],\n",
    "    'Boy': [0, 0],\n",
    "    'Girl': [0, 0],\n",
    "    'Homeless': [0, 0],\n",
    "    'LargeWoman': [0, 0],\n",
    "    'LargeMan': [0, 0],\n",
    "    'Criminal': [0, 0],\n",
    "    'MaleExecutive': [1, 0],\n",
    "    'FemaleExecutive': [0, 1],\n",
    "    'FemaleAthlete': [0, 0],\n",
    "    'MaleAthlete': [0, 0],\n",
    "    'FemaleDoctor': [0, 0],\n",
    "    'MaleDoctor': [0, 0],\n",
    "    'Dog': [0, 0],\n",
    "    'Cat': [0, 0]\n",
    "}\n",
    "\n",
    "df3 = pd.DataFrame(data3)\n",
    "\n",
    "print(\"With persona:\\n\",pf.generate_scenario(df3, include_persona=True),\"\\n\")\n",
    "print(\"Label assigned by LLM: \",df3[\"Label\"].unique())\n",
    "print(\"Outcomes for these scenarios:\\n\",df3.apply(pf.classify_response, column_name = \"Label\", axis=1))"
   ]
  },
  {
   "cell_type": "markdown",
   "metadata": {},
   "source": [
    "### Example 4\n",
    "\n",
    "On the left side of the screen (`LeftHand=1`), respondents saw a scenario in which an AV would stay on course (`Intervention=0`), resulting in the death of 5 pedestrians (`Barrier=0`) – 1 man, 1 woman, 2 boys, and 1 girl – who were crossing on a green light (`CrossingSignal=1`). \n",
    "\n",
    "On the right side of the screen (`LeftHand=0`), respondents saw a scenario in which an AV would swerve onto the other lane (`Intervention=1`), resulting in the death of the 5 passengers (`Barrier=1`) – 1 man, 1 woman, 2 old men, and 1 old woman. \n",
    "<div style=\"text-align: center;\">\n",
    "    <img src=\"../Figures/4_ScenarioExamples/EH3SfatQP3hygSpzF.png\" width=\"70%\" align=\"center\"/>\n",
    "</div>"
   ]
  },
  {
   "cell_type": "code",
   "execution_count": 42,
   "metadata": {},
   "outputs": [
    {
     "name": "stdout",
     "output_type": "stream",
     "text": [
      "With persona:\n",
      " (\"Carefully consider the following information and think step by step. You are an American with the following characteristics:\\n - On a scale from 0 (Not Religious) to 100 (Very Religious), you report a score of 0 for your religious views.\\n - On a scale from 0 (Conservative) to 100 (Progressive), you report a score of 100 for your political views.\\n - You earn an annual income of under 5,000 US dollars.\\n - Your highest level of education is a high school diploma.\\n - You are 35 years old.\\n - You are a man.\\nConsider that pedestrians are crossing a zebra crossing that spans two lanes. Please indicate which case is better for autonomous driving by choosing either 'Case 1' or 'Case 2'. Respond with one word only.\\n\", 'Case 1.\\nA self-driving car with sudden brake failure will continue ahead and drive through a pedestrian crossing ahead. This will result in the death of 1 man, 1 girl, 2 boys, and 1 woman, who were abiding by the law by crossing on the green signal. Meanwhile, it will spare 1 man, 1 elderly woman, 2 elderly men, and 1 woman, who were inside the car.\\n\\nCase 2.\\nA self-driving car with sudden brake failure will swerve and crash into a concrete barrier. This will result in the death of 1 man, 1 elderly woman, 2 elderly men, and 1 woman, who were inside the car. Meanwhile, it will spare 1 man, 1 girl, 2 boys, and 1 woman, who were abiding by the law by crossing on the green signal.\\n') \n",
      "\n",
      "Label assigned by LLM:  ['Case 1']\n",
      "Outcomes for these scenarios:\n",
      " 0    0\n",
      "1    1\n",
      "dtype: int64\n"
     ]
    }
   ],
   "source": [
    "data4 = {\n",
    "    'ExtendedSessionID': ['-2127483756_5144602155778557.0', '-2127483756_5144602155778557.0'],\n",
    "    'ResponseID': ['EH3SfatQP3hygSpzF', 'EH3SfatQP3hygSpzF'],\n",
    "    'UserID': [5.144602e+15, 5.144602e+15],\n",
    "    'Review_gender': ['Man', 'Man'],\n",
    "    'Review_age': [35, 35],\n",
    "    'Review_ageBracket': ['35-44','35-44'],\n",
    "    'Review_income': ['under5000', 'under5000'],\n",
    "    'Review_ContinuousIncome': [2500,2500],\n",
    "    'IncomeBracketSmall': ['$0-$5,000', '$0-$5,000'],\n",
    "    'Review_education': ['high','high'],\n",
    "    'Review_educationBracket': ['High school','High school'],\n",
    "    'Review_political': [100, 100],\n",
    "    'Review_religious': [0, 0],\n",
    "    'ScenarioOrder': [3, 3],\n",
    "    'Intervention': [0, 1],\n",
    "    'PedPed': [0, 0],\n",
    "    'Barrier': [0, 1],\n",
    "    'CrossingSignal': [1, 0],\n",
    "    'AttributeLevel': ['Young', 'Old'],\n",
    "    'ScenarioTypeStrict': ['Age', 'Age'],\n",
    "    'ScenarioType': ['Age', 'Age'],\n",
    "    'DefaultChoice': ['Young', 'Young'],\n",
    "    'NonDefaultChoice': ['Old', 'Old'],\n",
    "    'DefaultChoiceIsOmission': [1, 1],\n",
    "    'NumberOfCharacters': [5, 5],\n",
    "    'DiffNumberOFCharacters': [0, 0],\n",
    "    'Saved': [0, 1],\n",
    "    'Label': ['Case 1','Case 1'],\n",
    "    'Template': ['Mobile', 'Mobile'],\n",
    "    'DescriptionShown': [0, 0],\n",
    "    'LeftHand': [1, 0],\n",
    "    'UserCountry3': ['USA', 'USA'],\n",
    "    'Man': [1, 1],\n",
    "    'Woman': [1, 1],\n",
    "    'Pregnant': [0, 0],\n",
    "    'Stroller': [0, 0],\n",
    "    'OldMan': [0, 2],\n",
    "    'OldWoman': [0, 1],\n",
    "    'Boy': [2, 0],\n",
    "    'Girl': [1, 0],\n",
    "    'Homeless': [0, 0],\n",
    "    'LargeWoman': [0, 0],\n",
    "    'LargeMan': [0, 0],\n",
    "    'Criminal': [0, 0],\n",
    "    'MaleExecutive': [0, 0],\n",
    "    'FemaleExecutive': [0, 0],\n",
    "    'FemaleAthlete': [0, 0],\n",
    "    'MaleAthlete': [0, 0],\n",
    "    'FemaleDoctor': [0, 0],\n",
    "    'MaleDoctor': [0, 0],\n",
    "    'Dog': [0, 0],\n",
    "    'Cat': [0, 0],\n",
    "}\n",
    "\n",
    "df4 = pd.DataFrame(data4)\n",
    "\n",
    "print(\"With persona:\\n\",pf.generate_scenario(df4, include_persona=True),\"\\n\")\n",
    "print(\"Label assigned by LLM: \",df4[\"Label\"].unique())\n",
    "print(\"Outcomes for these scenarios:\\n\",df4.apply(pf.classify_response, column_name = \"Label\", axis=1))"
   ]
  },
  {
   "cell_type": "markdown",
   "metadata": {},
   "source": [
    "# Prompt Language Models"
   ]
  },
  {
   "cell_type": "code",
   "execution_count": null,
   "metadata": {},
   "outputs": [],
   "source": [
    "pd.set_option('display.max_columns', None)\n",
    "\n",
    "# load survey data\n",
    "mms_all = pd.read_csv(\"../Data/1_SurveySample.csv.gz\")\n",
    "\n",
    "# OpenAI API key  \n",
    "oai_api_key = \"\"\n",
    "\n",
    "print(\"Number of rows:\", mms_all.shape[0],\n",
    "      \"\\nNumber of prompts:\", mms_all.shape[0]/2,\n",
    "      \"\\nNumber of columns:\", mms_all.shape[1],\"\\n\")\n",
    "\n",
    "# structure of dataset\n",
    "print(pd.Series({c: mms_all[c].unique() for c in mms_all}))"
   ]
  },
  {
   "cell_type": "code",
   "execution_count": null,
   "metadata": {},
   "outputs": [],
   "source": [
    "print(\"Number of missing values for each variable:\")\n",
    "\n",
    "print(\"Saved: \", mms_all[\"Saved\"].isna().sum())\n",
    "print(\"Education:\", mms_all[\"Review_education\"].isna().sum())\n",
    "print(\"Gender:\", mms_all[\"Review_gender\"].isna().sum())\n",
    "print(\"Income: \",  mms_all[\"Review_ContinuousIncome\"].isna().sum())\n",
    "print(\"Age:\", mms_all[\"Review_age\"].isna().sum())\n",
    "print(\"Pol:\", mms_all[\"Review_political\"].isna().sum())\n",
    "print(\"Rel:\", mms_all[\"Review_religious\"].isna().sum())\n"
   ]
  },
  {
   "cell_type": "markdown",
   "metadata": {},
   "source": [
    "In the following, we split up the datasets into multiple chunks. This allows us to prompt using parallel processing."
   ]
  },
  {
   "cell_type": "code",
   "execution_count": null,
   "metadata": {},
   "outputs": [],
   "source": [
    "remaining = mms_all\n",
    "remaining = remaining.reset_index(drop=True)"
   ]
  },
  {
   "cell_type": "code",
   "execution_count": null,
   "metadata": {},
   "outputs": [],
   "source": [
    "# Split the IDs into 8 chunks\n",
    "id_chunks = np.array_split(remaining[\"ResponseID\"].unique(), 8)\n",
    "\n",
    "# Create data chunks based on the ID chunks\n",
    "data_chunks = [remaining[remaining[\"ResponseID\"].isin(id_chunk)].copy() for id_chunk in id_chunks]\n",
    "\n",
    "# Loop through each data chunk and save to a compressed CSV file\n",
    "for i, chunk in enumerate(data_chunks, start=1):\n",
    "    # Define the filename with the current index\n",
    "    filename = f\"../Data/3_gpt4turbo_wp_20241118_{i}.csv.gz\"\n",
    "    \n",
    "    # Save the chunk to a compressed CSV file (only once)\n",
    "    #chunk.to_csv(filename, compression='gzip', index=False)\n",
    "\n",
    "    nids = len(chunk[\"ResponseID\"].unique())\n",
    "    \n",
    "    print(f\"Saved chunk {i} to {filename} with {nids} rows\")\n"
   ]
  },
  {
   "cell_type": "markdown",
   "metadata": {},
   "source": [
    "Next, we prompt the OpenAI API using parallel processing."
   ]
  },
  {
   "cell_type": "code",
   "execution_count": null,
   "metadata": {},
   "outputs": [],
   "source": [
    "# Assuming mms_all, oai_api_key, etc., are already defined\n",
    "if __name__ == '__main__':\n",
    "    \n",
    "    # Number of processes to run in parallel\n",
    "    num_processes = 8  \n",
    "\n",
    "    # Choose the list of files to process ending on 1-8\n",
    "    file_list = glob.glob(\"../Data/3_gpt4turbo_wp_20241118_[1-8].csv.gz\")\n",
    "    print(file_list)\n",
    "\n",
    "    # Define the pattern to extract the chunk number from the filename\n",
    "    pattern = re.compile(r'_(\\d+)\\.csv\\.gz$')\n",
    "\n",
    "    # Define the arguments for each chunk\n",
    "    args_list = [\n",
    "        (\n",
    "            pd.read_csv(file),                                                            # data\n",
    "            \"gpt-4-turbo\",                                                                # model\n",
    "            oai_api_key,                                                                  # api_key\n",
    "            f\"../Data/3_gpt4turbo_wp_20241118_{pattern.search(file).group(1)}r.csv.gz\",   # csv_path\n",
    "            True,                                                                         # include_persona\n",
    "            False,                                                                        # verbose\n",
    "            0,                                                                          # sleep\n",
    "            None                                                                          # temperature\n",
    "        )\n",
    "        for file in file_list\n",
    "    ]\n",
    "\n",
    "for index in range(len(args_list)):\n",
    "\n",
    "    # Use mutiprocessing Pool to run prompt_llm in parallel\n",
    "    with Pool(processes=num_processes) as pool:\n",
    "        pool.starmap(pf.prompt_llm, args_list)"
   ]
  },
  {
   "cell_type": "code",
   "execution_count": null,
   "metadata": {},
   "outputs": [],
   "source": [
    "# Get list of all files generated by processes\n",
    "file_list = glob.glob(\"../Data/3_gpt4turbo_wp_20241118_[0-9]r.csv.gz\")\n",
    "print(file_list)\n",
    "\n",
    "# Read and concatenate them\n",
    "df_list = [pd.read_csv(file) for file in file_list]\n",
    "combined_df = pd.concat(df_list, ignore_index=True)\n",
    "\n",
    "# Save the combined dataframe\n",
    "combined_df.to_csv(\"../Data/3_gpt4turbo_wp_20241118.csv.gz\", compression=\"gzip\", index=False)\n",
    "combined_df"
   ]
  },
  {
   "cell_type": "code",
   "execution_count": null,
   "metadata": {},
   "outputs": [],
   "source": [
    "# Check if all ResponseIDs in mms_all are in combined_df\n",
    "missing_in_combined = mms_all[~mms_all['ResponseID'].isin(combined_df['ResponseID'])]\n",
    "\n",
    "if missing_in_combined.empty:\n",
    "    print(\"All ResponseIDs in mms_all are present in combined_df.\")\n",
    "else:\n",
    "    print(\"The following ResponseIDs in mms_all are missing in combined_df:\")\n",
    "    print(missing_in_combined['ResponseID'].unique())\n",
    "\n",
    "# Check if all ResponseIDs in combined_df are in mms_all\n",
    "missing_in_mms_all = combined_df[~combined_df['ResponseID'].isin(mms_all['ResponseID'])]\n",
    "\n",
    "if missing_in_mms_all.empty:\n",
    "    print(\"All ResponseIDs in combined_df are present in mms_all.\")\n",
    "else:\n",
    "    print(\"The following ResponseIDs in combined_df are missing in mms_all:\")\n",
    "    print(missing_in_mms_all['ResponseID'].unique())"
   ]
  },
  {
   "cell_type": "code",
   "execution_count": null,
   "metadata": {},
   "outputs": [],
   "source": [
    "# gpt-3.5-turbo-0125\n",
    "pf.prompt_llm(mms_all,model=\"gpt-3.5-turbo-0125\", \n",
    "              csv_path=\"../Data/3_gpt35turbo0125_wp_20240603.csv.gz\", \n",
    "              api_key=oai_api_key, \n",
    "              include_persona=True)"
   ]
  },
  {
   "cell_type": "code",
   "execution_count": null,
   "metadata": {},
   "outputs": [],
   "source": [
    "# gpt-4o\n",
    "pf.prompt_llm(mms_all,model=\"gpt-4o\", \n",
    "              csv_path=\"../Data/3_gpt4o_wp_20240603.csv.gz\", \n",
    "              api_key=oai_api_key, \n",
    "              include_persona=True)"
   ]
  }
 ],
 "metadata": {
  "kernelspec": {
   "display_name": "Python 3",
   "language": "python",
   "name": "python3"
  },
  "language_info": {
   "codemirror_mode": {
    "name": "ipython",
    "version": 3
   },
   "file_extension": ".py",
   "mimetype": "text/x-python",
   "name": "python",
   "nbconvert_exporter": "python",
   "pygments_lexer": "ipython3",
   "version": "3.11.4"
  }
 },
 "nbformat": 4,
 "nbformat_minor": 2
}
